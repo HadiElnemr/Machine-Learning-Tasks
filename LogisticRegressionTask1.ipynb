{
  "nbformat": 4,
  "nbformat_minor": 0,
  "metadata": {
    "colab": {
      "name": "LogisticRegressionTask1.ipynb",
      "provenance": [],
      "collapsed_sections": [],
      "authorship_tag": "ABX9TyNIZo0eR+bOHzKdNARq1H4v",
      "include_colab_link": true
    },
    "kernelspec": {
      "name": "python3",
      "display_name": "Python 3"
    }
  },
  "cells": [
    {
      "cell_type": "markdown",
      "metadata": {
        "id": "view-in-github",
        "colab_type": "text"
      },
      "source": [
        "<a href=\"https://colab.research.google.com/github/HadiElnemr/Machine-Learning-Tasks/blob/main/LogisticRegressionTask1.ipynb\" target=\"_parent\"><img src=\"https://colab.research.google.com/assets/colab-badge.svg\" alt=\"Open In Colab\"/></a>"
      ]
    },
    {
      "cell_type": "markdown",
      "metadata": {
        "id": "v76YGW0CqGgI"
      },
      "source": [
        "Imports"
      ]
    },
    {
      "cell_type": "code",
      "metadata": {
        "id": "z0us4TBGF8Cy"
      },
      "source": [
        "import numpy as np\n",
        "import matplotlib.pyplot as plt\n",
        "import pandas as pd\n",
        "from matplotlib.colors import ListedColormap\n",
        "from sklearn.datasets import make_moons, make_circles, make_classification\n",
        "from sklearn.model_selection import train_test_split\n",
        "\n",
        "from sklearn.linear_model import LogisticRegression\n",
        "\n",
        "\n"
      ],
      "execution_count": null,
      "outputs": []
    },
    {
      "cell_type": "code",
      "metadata": {
        "colab": {
          "base_uri": "https://localhost:8080/",
          "height": 265
        },
        "id": "bNd9DXjFqGUP",
        "outputId": "d6217b18-f00e-4ecf-f83b-a66003c48a54"
      },
      "source": [
        "n = 1000\n",
        "x1,y = make_classification(n_samples = n ,n_features = 2, n_redundant = 0, n_informative =2, random_state=42,n_clusters_per_class=1)\n",
        "plt.figure()\n",
        "plt.scatter(x1[:,0],x1[:,1],c=y)\n",
        "plt.show()"
      ],
      "execution_count": null,
      "outputs": [
        {
          "output_type": "display_data",
          "data": {
            "image/png": "[encoded data removed]",
            "text/plain": [
              "<Figure size 432x288 with 1 Axes>"
            ]
          },
          "metadata": {
            "tags": [],
            "needs_background": "light"
          }
        }
      ]
    },
    {
      "cell_type": "markdown",
      "metadata": {
        "id": "3Sq3WZCEwprZ"
      },
      "source": [
        "Cost Function"
      ]
    },
    {
      "cell_type": "code",
      "metadata": {
        "id": "FTzrj9an-0k2"
      },
      "source": [
        "def hypothesis(x,w): \n",
        "  return  np.dot(x,w.T)\n",
        "def sigmoid(z):\n",
        "  return 1/(1+np.exp(-z))\n",
        "def cost(h,y):\n",
        "  return (-y*np.log(h)-(1-y)*np.log(1-h)).mean() \n",
        "def gradient_descent(x, h, y):\n",
        "    return np.dot(x.T, (h - y)) / n  \n",
        "def predict(z, threshold=0.5):\n",
        "    return z >= threshold    "
      ],
      "execution_count": null,
      "outputs": []
    },
    {
      "cell_type": "code",
      "metadata": {
        "id": "Y8kJPlH5Gqzn"
      },
      "source": [
        "x = np.append(x1,np.ones((n,1)),axis = 1)\n",
        "w=np.zeros(3) #Theta\n",
        "z = hypothesis(x,w)\n",
        "alpha = 0.1\n",
        "h = sigmoid(z)\n",
        "iterations = 1000"
      ],
      "execution_count": null,
      "outputs": []
    },
    {
      "cell_type": "code",
      "metadata": {
        "id": "N7tilVc4wiZr"
      },
      "source": [
        "for i in range(iterations):\n",
        "  z = hypothesis(x,w)\n",
        "  h = sigmoid(z)\n",
        "  gradient = gradient_descent(x,h,y)\n",
        "  w = w - alpha * gradient \n"
      ],
      "execution_count": null,
      "outputs": []
    },
    {
      "cell_type": "code",
      "metadata": {
        "id": "fIz4qdATyB7O"
      },
      "source": [
        "result = sigmoid(hypothesis(x,w))\n",
        "binary = lambda t: np.floor(t+0.5)\n",
        "vfunc = np.vectorize(binary)\n",
        "predict = vfunc(result)\n",
        "count=0  "
      ],
      "execution_count": null,
      "outputs": []
    },
    {
      "cell_type": "code",
      "metadata": {
        "colab": {
          "base_uri": "https://localhost:8080/"
        },
        "id": "QS1PR-UmKRCs",
        "outputId": "5e9525a0-7a0b-44cf-c514-4499457d1b90"
      },
      "source": [
        "x2,y2 = make_classification(n_samples = n ,n_features = 2, n_redundant = 0, n_informative =2, random_state=42,n_clusters_per_class=1)\n",
        "x_new = np.append(x2,np.ones((n,1)),axis = 1)\n",
        "z = hypothesis(x_new,w)\n",
        "h = sigmoid(z)\n",
        "print('Accuracy', (np.sum((np.floor(h+0.5)==y2))/y2.shape*100), '%')\n"
      ],
      "execution_count": null,
      "outputs": [
        {
          "output_type": "stream",
          "text": [
            "Accuracy [90.3] %\n"
          ],
          "name": "stdout"
        }
      ]
    }
  ]
}